{
  "nbformat": 4,
  "nbformat_minor": 0,
  "metadata": {
    "colab": {
      "provenance": []
    },
    "kernelspec": {
      "name": "python3",
      "display_name": "Python 3"
    },
    "language_info": {
      "name": "python"
    }
  },
  "cells": [
    {
      "cell_type": "code",
      "source": [
        "#load the dataset\n",
        "import json\n",
        "from sklearn.model_selection import train_test_split\n",
        "\n",
        "from google.colab import drive\n",
        "drive.mount('drive', force_remount=True)\n",
        "\n",
        "with open(\"/content/drive/My Drive/frames.json\") as dataset:\n",
        "  frames = json.load(dataset)\n"
      ],
      "metadata": {
        "id": "1z0R3Mmp8Efb",
        "colab": {
          "base_uri": "https://localhost:8080/"
        },
        "outputId": "ce63e289-8156-4939-b102-67f43736d8fc"
      },
      "execution_count": null,
      "outputs": [
        {
          "output_type": "stream",
          "name": "stdout",
          "text": [
            "Mounted at drive\n"
          ]
        }
      ]
    },
    {
      "cell_type": "code",
      "execution_count": null,
      "metadata": {
        "id": "DfXYvC4A59z-"
      },
      "outputs": [],
      "source": [
        "import pandas as pd\n",
        "\n",
        "#train the model\n",
        "train, test = train_test_split(frames, random_state=104, test_size=0.25, shuffle=True)\n",
        "\n",
        "#print(len(train))\n",
        "#print(len(test))\n",
        "\n",
        "#df = pd.read_json(\"/content/drive/My Drive/frames.json\")\n",
        "\n",
        "#display(df)\n",
        "#user id | turns | wizard_id | id | labels\n",
        "#for key, value in df.iterrows():\n",
        "#  print(value['turns'])\n",
        "#test = frames\n",
        "'''\n",
        "info = []\n",
        "for d in range(len(test)):\n",
        "  for t in range(len(test[d]['turns'])):\n",
        "    frame = len(test[d]['turns'][t]['labels']['frames'])\n",
        "    for f in range(frame):\n",
        "      info.append(list(test[d]['turns'][t]['labels']['frames'][f]['info'].keys()))\n",
        "\n",
        "single_items = [item for sublist in info for item in sublist]\n",
        "\n",
        "print(set(single_items))\n",
        "'''\n",
        "test = frames"
      ]
    },
    {
      "cell_type": "code",
      "source": [
        "#construct the dataset\n",
        "#{'beach', 'arr_time_or', 'downtown', 'park', 'NO_RESULT', 'count_dst_city', 'shopping', 'budget', 'count', 'flex', 'duration', 'seat_ok', 'breakfast', 'intent', 'mall', 'cathedral', 'or_city', 'parking', 'HEARMORE', 'gym', 'min_duration', 'seat', 'dst_city', 'amenities', 'action', 'price', 'name', 'palace', 'budget_ok', 'wifi', 'REJECTED', 'market', 'airport', 'university', 'ref_anaphora', 'spa', 'museum', 'category', 'n_children', 'MOREINFO', 'count_name', 'arr_time_dst', 'max_duration', 'count_amenities', 'theatre', 'dep_time_dst', 'str_date', 'n_adults', 'vicinity', 'end_date', 'dep_time_or', 'gst_rating'}\n",
        "\n",
        "#for d in range(len(test)):\n",
        "\n",
        "columns = [\"id\",\"frame_id\",\"turn\",\"text\",\"author\",\"intent_1\", \"intent_2\",\"NO_RESULT\", \"HEARMORE\", \"REJECTED\", \"MOREINFO\", \"beach\", \"arr_time_or\", \"downtown\", \"park\", \"count_dst_city\", \"shopping\", \"budget\", \"count\", \"flex\", \"duration\", \"seat_ok\", \"breakfast\", \"mall\", \"cathedral\", \"or_city\", \"parking\", \"gym\", \"min_duration\", \"seat\", \"dst_city\", \"amenities\", \"action\", \"price\", \"name\", \"palace\", \"budget_ok\", \"wifi\", \"market\", \"airport\", \"university\", \"ref_anaphora\", \"spa\", \"museum\", \"category\", \"n_children\", \"count_name\", \"arr_time_dst\", \"max_duration\", \"count_amenities\", \"theatre\", \"dep_time_dst\", \"str_date\", \"n_adults\", \"vicinity\", \"end_date\", \"dep_time_or\", \"gst_rating\"]\n",
        "data = []\n",
        "\n",
        "for d in range(len(test)):\n",
        "  id = test[d]['id']\n",
        "  for t in range(len(test[d]['turns'])):\n",
        "    text = test[d]['turns'][t]['text']\n",
        "    author = test[d]['turns'][t]['author']\n",
        "\n",
        "    frame = test[d]['turns'][t]['labels']['frames']\n",
        "    len_frame = len(frame)\n",
        "    info = frame[len_frame-1]['info']\n",
        "\n",
        "    frame_id = test[d]['turns'][t]['labels']['frames'][len_frame-1]['frame_id']\n",
        "\n",
        "    #intent = info['intent'][0]['val'] if 'intent' in info else \"\"\n",
        "    intent_1 = test[d]['turns'][t]['labels']['acts'][0]['name'] if len(test[d]['turns'][t]['labels']['acts'])>0 else \"\"\n",
        "    intent_2 = test[d]['turns'][t]['labels']['acts'][1]['name'] if len(test[d]['turns'][t]['labels']['acts'])>1 else \"\"\n",
        "\n",
        "    NO_RESULT = info['NO_RESULT'][0]['val'] if 'NO_RESULT' in info else \"\"\n",
        "    HEARMORE = info['HEARMORE'][0]['val'] if 'HEARMORE' in info else \"\"\n",
        "    REJECTED = info['REJECTED'][0]['val'] if 'REJECTED' in info else \"\"\n",
        "    MOREINFO = info['MOREINFO'][0]['val'] if 'MOREINFO' in info else \"\"\n",
        "\n",
        "    beach = info['beach'][0]['val'] if 'beach' in info else \"\"\n",
        "    arr_time_or = info['arr_time_or'][0]['val'] if 'arr_time_or' in info else \"\"\n",
        "    downtown = info['downtown'][0]['val'] if 'downtown' in info else \"\"\n",
        "    park = info['park'][0]['val'] if 'park' in info else \"\"\n",
        "    count_dst_city = info['count_dst_city'][0]['val'] if 'count_dst_city' in info else \"\"\n",
        "    shopping = info['shopping'][0]['val'] if 'shopping' in info else \"\"\n",
        "    budget = info['budget'][0]['val'] if 'budget' in info else \"\"\n",
        "    count = info['count'][0]['val'] if 'count' in info else \"\"\n",
        "    flex = info['flex'][0]['val'] if 'flex' in info else \"\"\n",
        "    duration = info['duration'][0]['val'] if 'duration' in info else \"\"\n",
        "    seat_ok = info['seat_ok'][0]['val'] if 'seat_ok' in info else \"\"\n",
        "    breakfast = info['breakfast'][0]['val'] if 'breakfast' in info else \"\"\n",
        "    mall = info['mall'][0]['val'] if 'mall' in info else \"\"\n",
        "    cathedral = info['cathedral'][0]['val'] if 'cathedral' in info else \"\"\n",
        "    or_city = info['or_city'][0]['val'] if 'or_city' in info else \"\"\n",
        "    parking = info['parking'][0]['val'] if 'parking' in info else \"\"\n",
        "    gym = info['gym'][0]['val'] if 'gym' in info else \"\"\n",
        "    min_duration = info['min_duration'][0]['val'] if 'min_duration' in info else \"\"\n",
        "    seat = info['seat'][0]['val'] if 'seat' in info else \"\"\n",
        "    dst_city = info['dst_city'][0]['val'] if 'dst_city' in info else \"\"\n",
        "    amenities = info['amenities'][0]['val'] if 'amenities' in info else \"\"\n",
        "    action = info['action'][0]['val'] if 'action' in info else \"\"\n",
        "    price = info['price'][0]['val'] if 'price' in info else \"\"\n",
        "    name = info['name'][0]['val'] if 'name' in info else \"\"\n",
        "    palace = info['palace'][0]['val'] if 'palace' in info else \"\"\n",
        "    budget_ok = info['budget_ok'][0]['val'] if 'budget_ok' in info else \"\"\n",
        "    wifi = info['wifi'][0]['val'] if 'wifi' in info else \"\"\n",
        "    market = info['market'][0]['val'] if 'market' in info else \"\"\n",
        "    airport = info['airport'][0]['val'] if 'airport' in info else \"\"\n",
        "    university = info['university'][0]['val'] if 'university' in info else \"\"\n",
        "    ref_anaphora = info['ref_anaphora'][0]['val'] if 'ref_anaphora' in info else \"\"\n",
        "    spa = info['spa'][0]['val'] if 'spa' in info else \"\"\n",
        "    museum = info['museum'][0]['val'] if 'museum' in info else \"\"\n",
        "    category = info['category'][0]['val'] if 'category' in info else \"\"\n",
        "    n_children = info['n_children'][0]['val'] if 'n_children' in info else \"\"\n",
        "    count_name = info['count_name'][0]['val'] if 'count_name' in info else \"\"\n",
        "    arr_time_dst = info['arr_time_dst'][0]['val'] if 'arr_time_dst' in info else \"\"\n",
        "    max_duration = info['max_duration'][0]['val'] if 'max_duration' in info else \"\"\n",
        "    count_amenities = info['count_amenities'][0]['val'] if 'count_amenities' in info else \"\"\n",
        "    theatre = info['theatre'][0]['val'] if 'theatre' in info else \"\"\n",
        "    dep_time_dst = info['dep_time_dst'][0]['val'] if 'dep_time_dst' in info else \"\"\n",
        "    str_date = info['str_date'][0]['val'] if 'str_date' in info else \"\"\n",
        "    n_adults = info['n_adults'][0]['val'] if 'n_adults' in info else \"\"\n",
        "    vicinity = info['vicinity'][0]['val'] if 'vicinity' in info else \"\"\n",
        "    end_date = info['end_date'][0]['val'] if 'end_date' in info else \"\"\n",
        "    dep_time_or = info['dep_time_or'][0]['val'] if 'dep_time_or' in info else \"\"\n",
        "    gst_rating = info['gst_rating'][0]['val'] if 'gst_rating' in info else \"\"\n",
        "\n",
        "    data.append([id, frame_id, t+1, \"'\"+text+\"'\", author, intent_1, intent_2, NO_RESULT, HEARMORE, REJECTED, MOREINFO, beach, arr_time_or, downtown, park, count_dst_city, shopping, budget, count, flex, duration, seat_ok, breakfast, mall, cathedral, or_city, parking, gym, min_duration, seat, dst_city, amenities, action, price, name, palace, budget_ok, wifi, market, airport, university, ref_anaphora, spa, museum, category, n_children, count_name, arr_time_dst, max_duration, count_amenities, theatre, dep_time_dst, str_date, n_adults, vicinity, end_date, dep_time_or, gst_rating])\n",
        "\n",
        "\n",
        "df = pd.DataFrame(data, columns=columns)\n",
        "\n",
        "df.to_csv(\"frames.csv\",index=False)\n",
        "#display(df)\n",
        "\n",
        "#print(\"ID:\" + data[0]['turns'][0]['text'])\n",
        "#print(\"Act:\" + train[0]['turns'][0]['labels']['acts'][0]['name'])\n",
        "#print(train[0]['turns'][0]['labels']['acts'][0]['args'][0]['val'])\n",
        "\n",
        "\n"
      ],
      "metadata": {
        "id": "AuaVbHDmBjST"
      },
      "execution_count": null,
      "outputs": []
    }
  ]
}